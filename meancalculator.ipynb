{
  "metadata": {
    "kernelspec": {
      "name": "python",
      "display_name": "Python (Pyodide)",
      "language": "python"
    },
    "language_info": {
      "codemirror_mode": {
        "name": "python",
        "version": 3
      },
      "file_extension": ".py",
      "mimetype": "text/x-python",
      "name": "python",
      "nbconvert_exporter": "python",
      "pygments_lexer": "ipython3",
      "version": "3.8"
    }
  },
  "nbformat_minor": 4,
  "nbformat": 4,
  "cells": [
    {
      "cell_type": "code",
      "source": "import numpy as np\n\ndef calculate(list):\n    Digit = np.array(Digit_List)     #......Convert the list into Array \n    Digit = Digit.reshape(3,3)       #......Convert the List into a 3x3 Array\n\n    #To calculate Mean\n    Flat_mean= np.mean(Digit) #To calculate Flattened Mean\n    Flat_mean = Flat_mean.tolist() #To convert Flattened Mean array to list\n    mean_ax1=np.mean(Digit, axis=0) #To calculate Mean across axis 1\n    mean_ax1 = mean_ax1.tolist() #To convert  Mean across axis 1 array to list\n    mean_ax2=np.mean(Digit,axis=1)#To calculate Mean across axis 2\n    mean_ax2 = mean_ax2.tolist()  #To convert  Mean across axis 1 array to list\n\n    #To calculate Variance\n    var= np.var(Digit) #To calculate Variance\n    var_ax1= np.var(Digit,axis=0)  #To calculate Variance axis 1\n    var_ax2= np.var(Digit,axis=1) #To calculate Variance axis2 \n    \n    #converting variance arrays to list\n    var = var.tolist() \n    var_ax1 = var_ax1.tolist()\n    var_ax2 = var_ax2.tolist()\n\n    #To calculate Standard Deviation\n    std_dev= np.std(Digit)\n    std_dev_ax1= np.std(Digit,axis=0)\n    std_dev_ax2= np.std(Digit,axis=1)\n    \n    #converting standard deviation array to list\n    std_dev = std_dev.tolist()\n    std_dev_ax1 =std_dev_ax1.tolist()\n    std_dev_ax2 = std_dev_ax2.tolist()\n\n    #To calculate Max value\n    max= np.max(Digit)\n    max_ax1= np.max(Digit,axis=0)\n    max_ax2= np.max(Digit,axis=1)\n    #converting max array to list\n    max = max.tolist()\n    max_ax1 =max_ax1.tolist()\n    max_ax2 = max_ax2.tolist()\n\n    #To calculate min value\n    min= np.min(Digit)\n    min_ax1= np.min(Digit,axis=0)\n    min_ax2= np.min(Digit,axis=1)\n    #converting min array to list\n    min = min.tolist()\n    min_ax1 =min_ax1.tolist()\n    min_ax2 = min_ax2.tolist()\n\n    #To calculate sum value\n    sum= np.sum(Digit)\n    sum_ax1= np.sum(Digit,axis=0)\n    sum_ax2= np.sum(Digit,axis=1)\n    #converting sum array to list\n    sum = sum.tolist()\n    sum_ax1 =sum_ax1.tolist()\n    sum_ax2 = sum_ax2.tolist()\n\n    #The calculations Dictionary\n    calculations={'Mean':[mean_ax1,mean_ax2,Flat_mean],\n                  'Variance':[var_ax1,var_ax2,var],\n                  'Standard Deviation':[std_dev,std_dev_ax1,std_dev_ax2],\n                  'Max':[max_ax1,max_ax2,max],\n                  'Min':[min_ax1,min_ax2,min],\n                  'Sum':[sum_ax1,sum_ax2,sum]}\n    return calculations\n\n\n#......This is the List that contains 9 digits \nDigit_List = [1,1,2,3,4,5,6,7,8]\n#calling the calculate function\ncalculate(Digit_List)\n",
      "metadata": {
        "trusted": true
      },
      "outputs": [
        {
          "execution_count": 64,
          "output_type": "execute_result",
          "data": {
            "text/plain": "{'Mean': [[3.3333333333333335, 4.0, 5.0],\n  [1.3333333333333333, 4.0, 7.0],\n  4.111111111111111],\n 'Variance': [[4.222222222222222, 6.0, 6.0],\n  [0.2222222222222222, 0.6666666666666666, 0.6666666666666666],\n  5.876543209876543],\n 'Standard Deviation': [2.4241582476968255,\n  [2.0548046676563256, 2.449489742783178, 2.449489742783178],\n  [0.4714045207910317, 0.816496580927726, 0.816496580927726]],\n 'Max': [[6, 7, 8], [2, 5, 8], 8],\n 'Min': [[1, 1, 2], [1, 3, 6], 1],\n 'Sum': [[10, 12, 15], [4, 12, 21], 37]}"
          },
          "metadata": {}
        }
      ],
      "execution_count": 64
    },
    {
      "cell_type": "code",
      "source": "",
      "metadata": {
        "trusted": true
      },
      "outputs": [],
      "execution_count": null
    }
  ]
}